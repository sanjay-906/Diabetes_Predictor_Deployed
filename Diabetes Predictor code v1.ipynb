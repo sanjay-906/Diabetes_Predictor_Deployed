{
 "cells": [
  {
   "cell_type": "markdown",
   "id": "24460697",
   "metadata": {},
   "source": [
    "<b>------------------------------------------------------------------------------------------------------------------------------------------------------------------------------------------------------------------</b>"
   ]
  },
  {
   "cell_type": "markdown",
   "id": "bb0c6c36",
   "metadata": {},
   "source": [
    "### DIABETES PREDICTION(CLASSIFICATION) USING LOGISTIC REGRESSION\n",
    "\n",
    "NAME: PENDEM SANJAY"
   ]
  },
  {
   "cell_type": "markdown",
   "id": "a45ee4bf",
   "metadata": {},
   "source": [
    " DATASET:<a href=\"https://www.kaggle.com/datasets/mathchi/diabetes-data-set?resource=download\">Diabetes.csv</a>"
   ]
  },
  {
   "cell_type": "markdown",
   "id": "e17e85b0",
   "metadata": {},
   "source": [
    "<b>What does this model do?</b><br>\n",
    "This model predicts wheather a person has diabetes or not based on some information"
   ]
  },
  {
   "cell_type": "markdown",
   "id": "92e69bb0",
   "metadata": {},
   "source": [
    "<b>How it does that?</b><br>\n",
    "It uses Logistic Regresssion Algorithm which predicts a class based on previous data with which it was trainned"
   ]
  },
  {
   "cell_type": "markdown",
   "id": "59fce552",
   "metadata": {},
   "source": [
    "<b>------------------------------------------------------------------------------------------------------------------------------------------------------------------------------------------------------------------</b>"
   ]
  },
  {
   "cell_type": "markdown",
   "id": "9714a252",
   "metadata": {},
   "source": [
    "#### IMPORTING THE LIBRARIES:"
   ]
  },
  {
   "cell_type": "code",
   "execution_count": 1,
   "id": "f1db9634",
   "metadata": {},
   "outputs": [],
   "source": [
    "import numpy as np\n",
    "import pandas as pd\n",
    "import matplotlib.pyplot as plt\n",
    "import seaborn as sns\n",
    "\n",
    "from sklearn.linear_model import LogisticRegression\n",
    "from sklearn.model_selection import train_test_split\n",
    "from sklearn.preprocessing import StandardScaler\n",
    "from sklearn.metrics import accuracy_score\n",
    "from sklearn.utils import shuffle\n"
   ]
  },
  {
   "cell_type": "code",
   "execution_count": 2,
   "id": "de298a65",
   "metadata": {},
   "outputs": [],
   "source": [
    "import pickle\n",
    "#informally, this module saves the code and we can use it another time"
   ]
  },
  {
   "cell_type": "code",
   "execution_count": 3,
   "id": "c38481bd",
   "metadata": {},
   "outputs": [],
   "source": [
    "import warnings\n",
    "warnings.filterwarnings(\"ignore\")\n",
    "#suppresses warnings"
   ]
  },
  {
   "cell_type": "markdown",
   "id": "4b9acf51",
   "metadata": {},
   "source": [
    "<b>NUMPY:</b> provides mathematical functions<br>\n",
    "\n",
    "<b>PANDAS:</b> used data analysis and manipulation <br>\n",
    "\n",
    "<b>MATPLOTLIB:</b> provides tools for plotting\n",
    "\n",
    "<b>SKLEARN:</b> provides tools for data analysis and machine learning\n",
    "\n",
    "<b>SEABORN:</b> used for data visualization\n"
   ]
  },
  {
   "cell_type": "markdown",
   "id": "9f1b31c4",
   "metadata": {},
   "source": [
    "#### IMPORTING THE DATASET:"
   ]
  },
  {
   "cell_type": "code",
   "execution_count": 4,
   "id": "dfa3cafd",
   "metadata": {},
   "outputs": [],
   "source": [
    "data=pd.read_csv('diabetes.csv')\n",
    "#Data Structure: pandas Dataframe"
   ]
  },
  {
   "cell_type": "markdown",
   "id": "a6b79ef8",
   "metadata": {},
   "source": [
    "#### STUDYING AND ANALYSING THE DATASET:"
   ]
  },
  {
   "cell_type": "code",
   "execution_count": 5,
   "id": "85a080b8",
   "metadata": {},
   "outputs": [
    {
     "data": {
      "text/html": [
       "<div>\n",
       "<style scoped>\n",
       "    .dataframe tbody tr th:only-of-type {\n",
       "        vertical-align: middle;\n",
       "    }\n",
       "\n",
       "    .dataframe tbody tr th {\n",
       "        vertical-align: top;\n",
       "    }\n",
       "\n",
       "    .dataframe thead th {\n",
       "        text-align: right;\n",
       "    }\n",
       "</style>\n",
       "<table border=\"1\" class=\"dataframe\">\n",
       "  <thead>\n",
       "    <tr style=\"text-align: right;\">\n",
       "      <th></th>\n",
       "      <th>Pregnancies</th>\n",
       "      <th>Glucose</th>\n",
       "      <th>BloodPressure</th>\n",
       "      <th>SkinThickness</th>\n",
       "      <th>Insulin</th>\n",
       "      <th>BMI</th>\n",
       "      <th>DiabetesPedigreeFunction</th>\n",
       "      <th>Age</th>\n",
       "      <th>Outcome</th>\n",
       "    </tr>\n",
       "  </thead>\n",
       "  <tbody>\n",
       "    <tr>\n",
       "      <th>0</th>\n",
       "      <td>6</td>\n",
       "      <td>148</td>\n",
       "      <td>72</td>\n",
       "      <td>35</td>\n",
       "      <td>0</td>\n",
       "      <td>33.6</td>\n",
       "      <td>0.627</td>\n",
       "      <td>50</td>\n",
       "      <td>1</td>\n",
       "    </tr>\n",
       "    <tr>\n",
       "      <th>1</th>\n",
       "      <td>1</td>\n",
       "      <td>85</td>\n",
       "      <td>66</td>\n",
       "      <td>29</td>\n",
       "      <td>0</td>\n",
       "      <td>26.6</td>\n",
       "      <td>0.351</td>\n",
       "      <td>31</td>\n",
       "      <td>0</td>\n",
       "    </tr>\n",
       "    <tr>\n",
       "      <th>2</th>\n",
       "      <td>8</td>\n",
       "      <td>183</td>\n",
       "      <td>64</td>\n",
       "      <td>0</td>\n",
       "      <td>0</td>\n",
       "      <td>23.3</td>\n",
       "      <td>0.672</td>\n",
       "      <td>32</td>\n",
       "      <td>1</td>\n",
       "    </tr>\n",
       "    <tr>\n",
       "      <th>3</th>\n",
       "      <td>1</td>\n",
       "      <td>89</td>\n",
       "      <td>66</td>\n",
       "      <td>23</td>\n",
       "      <td>94</td>\n",
       "      <td>28.1</td>\n",
       "      <td>0.167</td>\n",
       "      <td>21</td>\n",
       "      <td>0</td>\n",
       "    </tr>\n",
       "    <tr>\n",
       "      <th>4</th>\n",
       "      <td>0</td>\n",
       "      <td>137</td>\n",
       "      <td>40</td>\n",
       "      <td>35</td>\n",
       "      <td>168</td>\n",
       "      <td>43.1</td>\n",
       "      <td>2.288</td>\n",
       "      <td>33</td>\n",
       "      <td>1</td>\n",
       "    </tr>\n",
       "  </tbody>\n",
       "</table>\n",
       "</div>"
      ],
      "text/plain": [
       "   Pregnancies  Glucose  BloodPressure  SkinThickness  Insulin   BMI  \\\n",
       "0            6      148             72             35        0  33.6   \n",
       "1            1       85             66             29        0  26.6   \n",
       "2            8      183             64              0        0  23.3   \n",
       "3            1       89             66             23       94  28.1   \n",
       "4            0      137             40             35      168  43.1   \n",
       "\n",
       "   DiabetesPedigreeFunction  Age  Outcome  \n",
       "0                     0.627   50        1  \n",
       "1                     0.351   31        0  \n",
       "2                     0.672   32        1  \n",
       "3                     0.167   21        0  \n",
       "4                     2.288   33        1  "
      ]
     },
     "execution_count": 5,
     "metadata": {},
     "output_type": "execute_result"
    }
   ],
   "source": [
    "data.head()\n",
    "#first 5 rows"
   ]
  },
  {
   "cell_type": "code",
   "execution_count": 6,
   "id": "c282f52a",
   "metadata": {},
   "outputs": [
    {
     "data": {
      "text/html": [
       "<div>\n",
       "<style scoped>\n",
       "    .dataframe tbody tr th:only-of-type {\n",
       "        vertical-align: middle;\n",
       "    }\n",
       "\n",
       "    .dataframe tbody tr th {\n",
       "        vertical-align: top;\n",
       "    }\n",
       "\n",
       "    .dataframe thead th {\n",
       "        text-align: right;\n",
       "    }\n",
       "</style>\n",
       "<table border=\"1\" class=\"dataframe\">\n",
       "  <thead>\n",
       "    <tr style=\"text-align: right;\">\n",
       "      <th></th>\n",
       "      <th>Pregnancies</th>\n",
       "      <th>Glucose</th>\n",
       "      <th>BloodPressure</th>\n",
       "      <th>SkinThickness</th>\n",
       "      <th>Insulin</th>\n",
       "      <th>BMI</th>\n",
       "      <th>DiabetesPedigreeFunction</th>\n",
       "      <th>Age</th>\n",
       "      <th>Outcome</th>\n",
       "    </tr>\n",
       "  </thead>\n",
       "  <tbody>\n",
       "    <tr>\n",
       "      <th>count</th>\n",
       "      <td>768.000000</td>\n",
       "      <td>768.000000</td>\n",
       "      <td>768.000000</td>\n",
       "      <td>768.000000</td>\n",
       "      <td>768.000000</td>\n",
       "      <td>768.000000</td>\n",
       "      <td>768.000000</td>\n",
       "      <td>768.000000</td>\n",
       "      <td>768.000000</td>\n",
       "    </tr>\n",
       "    <tr>\n",
       "      <th>mean</th>\n",
       "      <td>3.845052</td>\n",
       "      <td>120.894531</td>\n",
       "      <td>69.105469</td>\n",
       "      <td>20.536458</td>\n",
       "      <td>79.799479</td>\n",
       "      <td>31.992578</td>\n",
       "      <td>0.471876</td>\n",
       "      <td>33.240885</td>\n",
       "      <td>0.348958</td>\n",
       "    </tr>\n",
       "    <tr>\n",
       "      <th>std</th>\n",
       "      <td>3.369578</td>\n",
       "      <td>31.972618</td>\n",
       "      <td>19.355807</td>\n",
       "      <td>15.952218</td>\n",
       "      <td>115.244002</td>\n",
       "      <td>7.884160</td>\n",
       "      <td>0.331329</td>\n",
       "      <td>11.760232</td>\n",
       "      <td>0.476951</td>\n",
       "    </tr>\n",
       "    <tr>\n",
       "      <th>min</th>\n",
       "      <td>0.000000</td>\n",
       "      <td>0.000000</td>\n",
       "      <td>0.000000</td>\n",
       "      <td>0.000000</td>\n",
       "      <td>0.000000</td>\n",
       "      <td>0.000000</td>\n",
       "      <td>0.078000</td>\n",
       "      <td>21.000000</td>\n",
       "      <td>0.000000</td>\n",
       "    </tr>\n",
       "    <tr>\n",
       "      <th>25%</th>\n",
       "      <td>1.000000</td>\n",
       "      <td>99.000000</td>\n",
       "      <td>62.000000</td>\n",
       "      <td>0.000000</td>\n",
       "      <td>0.000000</td>\n",
       "      <td>27.300000</td>\n",
       "      <td>0.243750</td>\n",
       "      <td>24.000000</td>\n",
       "      <td>0.000000</td>\n",
       "    </tr>\n",
       "    <tr>\n",
       "      <th>50%</th>\n",
       "      <td>3.000000</td>\n",
       "      <td>117.000000</td>\n",
       "      <td>72.000000</td>\n",
       "      <td>23.000000</td>\n",
       "      <td>30.500000</td>\n",
       "      <td>32.000000</td>\n",
       "      <td>0.372500</td>\n",
       "      <td>29.000000</td>\n",
       "      <td>0.000000</td>\n",
       "    </tr>\n",
       "    <tr>\n",
       "      <th>75%</th>\n",
       "      <td>6.000000</td>\n",
       "      <td>140.250000</td>\n",
       "      <td>80.000000</td>\n",
       "      <td>32.000000</td>\n",
       "      <td>127.250000</td>\n",
       "      <td>36.600000</td>\n",
       "      <td>0.626250</td>\n",
       "      <td>41.000000</td>\n",
       "      <td>1.000000</td>\n",
       "    </tr>\n",
       "    <tr>\n",
       "      <th>max</th>\n",
       "      <td>17.000000</td>\n",
       "      <td>199.000000</td>\n",
       "      <td>122.000000</td>\n",
       "      <td>99.000000</td>\n",
       "      <td>846.000000</td>\n",
       "      <td>67.100000</td>\n",
       "      <td>2.420000</td>\n",
       "      <td>81.000000</td>\n",
       "      <td>1.000000</td>\n",
       "    </tr>\n",
       "  </tbody>\n",
       "</table>\n",
       "</div>"
      ],
      "text/plain": [
       "       Pregnancies     Glucose  BloodPressure  SkinThickness     Insulin  \\\n",
       "count   768.000000  768.000000     768.000000     768.000000  768.000000   \n",
       "mean      3.845052  120.894531      69.105469      20.536458   79.799479   \n",
       "std       3.369578   31.972618      19.355807      15.952218  115.244002   \n",
       "min       0.000000    0.000000       0.000000       0.000000    0.000000   \n",
       "25%       1.000000   99.000000      62.000000       0.000000    0.000000   \n",
       "50%       3.000000  117.000000      72.000000      23.000000   30.500000   \n",
       "75%       6.000000  140.250000      80.000000      32.000000  127.250000   \n",
       "max      17.000000  199.000000     122.000000      99.000000  846.000000   \n",
       "\n",
       "              BMI  DiabetesPedigreeFunction         Age     Outcome  \n",
       "count  768.000000                768.000000  768.000000  768.000000  \n",
       "mean    31.992578                  0.471876   33.240885    0.348958  \n",
       "std      7.884160                  0.331329   11.760232    0.476951  \n",
       "min      0.000000                  0.078000   21.000000    0.000000  \n",
       "25%     27.300000                  0.243750   24.000000    0.000000  \n",
       "50%     32.000000                  0.372500   29.000000    0.000000  \n",
       "75%     36.600000                  0.626250   41.000000    1.000000  \n",
       "max     67.100000                  2.420000   81.000000    1.000000  "
      ]
     },
     "execution_count": 6,
     "metadata": {},
     "output_type": "execute_result"
    }
   ],
   "source": [
    "data.describe()"
   ]
  },
  {
   "cell_type": "code",
   "execution_count": 7,
   "id": "829391e5",
   "metadata": {},
   "outputs": [
    {
     "data": {
      "text/plain": [
       "6912"
      ]
     },
     "execution_count": 7,
     "metadata": {},
     "output_type": "execute_result"
    }
   ],
   "source": [
    "data.size\n",
    "#total values in the dataset(rows x columns)"
   ]
  },
  {
   "cell_type": "code",
   "execution_count": 8,
   "id": "09336df0",
   "metadata": {},
   "outputs": [
    {
     "data": {
      "text/plain": [
       "(768, 9)"
      ]
     },
     "execution_count": 8,
     "metadata": {},
     "output_type": "execute_result"
    }
   ],
   "source": [
    "data.shape\n",
    "#(rows, columns)"
   ]
  },
  {
   "cell_type": "code",
   "execution_count": 9,
   "id": "8a2409a7",
   "metadata": {},
   "outputs": [
    {
     "name": "stdout",
     "output_type": "stream",
     "text": [
      "<class 'pandas.core.frame.DataFrame'>\n",
      "RangeIndex: 768 entries, 0 to 767\n",
      "Data columns (total 9 columns):\n",
      " #   Column                    Non-Null Count  Dtype  \n",
      "---  ------                    --------------  -----  \n",
      " 0   Pregnancies               768 non-null    int64  \n",
      " 1   Glucose                   768 non-null    int64  \n",
      " 2   BloodPressure             768 non-null    int64  \n",
      " 3   SkinThickness             768 non-null    int64  \n",
      " 4   Insulin                   768 non-null    int64  \n",
      " 5   BMI                       768 non-null    float64\n",
      " 6   DiabetesPedigreeFunction  768 non-null    float64\n",
      " 7   Age                       768 non-null    int64  \n",
      " 8   Outcome                   768 non-null    int64  \n",
      "dtypes: float64(2), int64(7)\n",
      "memory usage: 54.1 KB\n"
     ]
    }
   ],
   "source": [
    "data.info()"
   ]
  },
  {
   "cell_type": "code",
   "execution_count": 10,
   "id": "68571f3a",
   "metadata": {},
   "outputs": [
    {
     "data": {
      "text/plain": [
       "['Pregnancies',\n",
       " 'Glucose',\n",
       " 'BloodPressure',\n",
       " 'SkinThickness',\n",
       " 'Insulin',\n",
       " 'BMI',\n",
       " 'DiabetesPedigreeFunction',\n",
       " 'Age',\n",
       " 'Outcome']"
      ]
     },
     "execution_count": 10,
     "metadata": {},
     "output_type": "execute_result"
    }
   ],
   "source": [
    "columns=[i for i in data.columns]\n",
    "columns\n",
    "#data[columns]\n"
   ]
  },
  {
   "cell_type": "code",
   "execution_count": 11,
   "id": "87809fe0",
   "metadata": {},
   "outputs": [
    {
     "data": {
      "text/plain": [
       "Index                        128\n",
       "Pregnancies                 6144\n",
       "Glucose                     6144\n",
       "BloodPressure               6144\n",
       "SkinThickness               6144\n",
       "Insulin                     6144\n",
       "BMI                         6144\n",
       "DiabetesPedigreeFunction    6144\n",
       "Age                         6144\n",
       "Outcome                     6144\n",
       "dtype: int64"
      ]
     },
     "execution_count": 11,
     "metadata": {},
     "output_type": "execute_result"
    }
   ],
   "source": [
    "data.memory_usage()\n",
    "#memory usage of each column in bytes"
   ]
  },
  {
   "cell_type": "code",
   "execution_count": 12,
   "id": "a5838d55",
   "metadata": {},
   "outputs": [
    {
     "data": {
      "text/plain": [
       "Pregnancies                 0\n",
       "Glucose                     0\n",
       "BloodPressure               0\n",
       "SkinThickness               0\n",
       "Insulin                     0\n",
       "BMI                         0\n",
       "DiabetesPedigreeFunction    0\n",
       "Age                         0\n",
       "Outcome                     0\n",
       "dtype: int64"
      ]
     },
     "execution_count": 12,
     "metadata": {},
     "output_type": "execute_result"
    }
   ],
   "source": [
    "data.isnull().sum()\n",
    "#finding NULL values"
   ]
  },
  {
   "cell_type": "code",
   "execution_count": 13,
   "id": "9cd388b5",
   "metadata": {},
   "outputs": [
    {
     "data": {
      "text/plain": [
       "0"
      ]
     },
     "execution_count": 13,
     "metadata": {},
     "output_type": "execute_result"
    }
   ],
   "source": [
    "data.duplicated().sum()"
   ]
  },
  {
   "cell_type": "code",
   "execution_count": 14,
   "id": "6153b950",
   "metadata": {},
   "outputs": [
    {
     "data": {
      "text/plain": [
       "Pregnancies                  17\n",
       "Glucose                     136\n",
       "BloodPressure                47\n",
       "SkinThickness                51\n",
       "Insulin                     186\n",
       "BMI                         248\n",
       "DiabetesPedigreeFunction    517\n",
       "Age                          52\n",
       "Outcome                       2\n",
       "dtype: int64"
      ]
     },
     "execution_count": 14,
     "metadata": {},
     "output_type": "execute_result"
    }
   ],
   "source": [
    "data.nunique()\n",
    "#number of unique values in each column"
   ]
  },
  {
   "cell_type": "code",
   "execution_count": 15,
   "id": "b084a386",
   "metadata": {},
   "outputs": [
    {
     "data": {
      "text/plain": [
       "array([1, 0], dtype=int64)"
      ]
     },
     "execution_count": 15,
     "metadata": {},
     "output_type": "execute_result"
    }
   ],
   "source": [
    "data['Outcome'].unique()"
   ]
  },
  {
   "cell_type": "code",
   "execution_count": 16,
   "id": "af8cee81",
   "metadata": {},
   "outputs": [
    {
     "data": {
      "text/plain": [
       "Pregnancies                 0.901674\n",
       "Glucose                     0.173754\n",
       "BloodPressure              -1.843608\n",
       "SkinThickness               0.109372\n",
       "Insulin                     2.272251\n",
       "BMI                        -0.428982\n",
       "DiabetesPedigreeFunction    1.919911\n",
       "Age                         1.129597\n",
       "Outcome                     0.635017\n",
       "dtype: float64"
      ]
     },
     "execution_count": 16,
     "metadata": {},
     "output_type": "execute_result"
    }
   ],
   "source": [
    "data.skew()\n",
    "#for statistical purpose"
   ]
  },
  {
   "cell_type": "code",
   "execution_count": 17,
   "id": "517a8bad",
   "metadata": {},
   "outputs": [
    {
     "data": {
      "text/plain": [
       "<AxesSubplot:xlabel='Glucose', ylabel='Density'>"
      ]
     },
     "execution_count": 17,
     "metadata": {},
     "output_type": "execute_result"
    },
    {
     "data": {
      "image/png": "[encoded data removed]",
      "text/plain": [
       "<Figure size 432x288 with 1 Axes>"
      ]
     },
     "metadata": {
      "needs_background": "light"
     },
     "output_type": "display_data"
    }
   ],
   "source": [
    "sns.distplot(data['Glucose'])\n",
    "#distribution of data values across a certain range"
   ]
  },
  {
   "cell_type": "code",
   "execution_count": 18,
   "id": "6c430105",
   "metadata": {},
   "outputs": [
    {
     "data": {
      "text/plain": [
       "0    500\n",
       "1    268\n",
       "Name: Outcome, dtype: int64"
      ]
     },
     "execution_count": 18,
     "metadata": {},
     "output_type": "execute_result"
    }
   ],
   "source": [
    "data['Outcome'].value_counts()"
   ]
  },
  {
   "cell_type": "code",
   "execution_count": 19,
   "id": "c662b323",
   "metadata": {},
   "outputs": [
    {
     "data": {
      "text/html": [
       "<div>\n",
       "<style scoped>\n",
       "    .dataframe tbody tr th:only-of-type {\n",
       "        vertical-align: middle;\n",
       "    }\n",
       "\n",
       "    .dataframe tbody tr th {\n",
       "        vertical-align: top;\n",
       "    }\n",
       "\n",
       "    .dataframe thead th {\n",
       "        text-align: right;\n",
       "    }\n",
       "</style>\n",
       "<table border=\"1\" class=\"dataframe\">\n",
       "  <thead>\n",
       "    <tr style=\"text-align: right;\">\n",
       "      <th></th>\n",
       "      <th>Pregnancies</th>\n",
       "      <th>Glucose</th>\n",
       "      <th>BloodPressure</th>\n",
       "      <th>SkinThickness</th>\n",
       "      <th>Insulin</th>\n",
       "      <th>BMI</th>\n",
       "      <th>DiabetesPedigreeFunction</th>\n",
       "      <th>Age</th>\n",
       "    </tr>\n",
       "    <tr>\n",
       "      <th>Outcome</th>\n",
       "      <th></th>\n",
       "      <th></th>\n",
       "      <th></th>\n",
       "      <th></th>\n",
       "      <th></th>\n",
       "      <th></th>\n",
       "      <th></th>\n",
       "      <th></th>\n",
       "    </tr>\n",
       "  </thead>\n",
       "  <tbody>\n",
       "    <tr>\n",
       "      <th>0</th>\n",
       "      <td>3.298000</td>\n",
       "      <td>109.980000</td>\n",
       "      <td>68.184000</td>\n",
       "      <td>19.664000</td>\n",
       "      <td>68.792000</td>\n",
       "      <td>30.304200</td>\n",
       "      <td>0.429734</td>\n",
       "      <td>31.190000</td>\n",
       "    </tr>\n",
       "    <tr>\n",
       "      <th>1</th>\n",
       "      <td>4.865672</td>\n",
       "      <td>141.257463</td>\n",
       "      <td>70.824627</td>\n",
       "      <td>22.164179</td>\n",
       "      <td>100.335821</td>\n",
       "      <td>35.142537</td>\n",
       "      <td>0.550500</td>\n",
       "      <td>37.067164</td>\n",
       "    </tr>\n",
       "  </tbody>\n",
       "</table>\n",
       "</div>"
      ],
      "text/plain": [
       "         Pregnancies     Glucose  BloodPressure  SkinThickness     Insulin  \\\n",
       "Outcome                                                                      \n",
       "0           3.298000  109.980000      68.184000      19.664000   68.792000   \n",
       "1           4.865672  141.257463      70.824627      22.164179  100.335821   \n",
       "\n",
       "               BMI  DiabetesPedigreeFunction        Age  \n",
       "Outcome                                                  \n",
       "0        30.304200                  0.429734  31.190000  \n",
       "1        35.142537                  0.550500  37.067164  "
      ]
     },
     "execution_count": 19,
     "metadata": {},
     "output_type": "execute_result"
    }
   ],
   "source": [
    "data.groupby('Outcome').mean()"
   ]
  },
  {
   "cell_type": "code",
   "execution_count": 20,
   "id": "d9fae257",
   "metadata": {},
   "outputs": [],
   "source": [
    "data=shuffle(data)"
   ]
  },
  {
   "cell_type": "markdown",
   "id": "b263aac9",
   "metadata": {},
   "source": [
    "#### FEATURES:"
   ]
  },
  {
   "cell_type": "code",
   "execution_count": 21,
   "id": "15e0f843",
   "metadata": {},
   "outputs": [
    {
     "data": {
      "text/html": [
       "<div>\n",
       "<style scoped>\n",
       "    .dataframe tbody tr th:only-of-type {\n",
       "        vertical-align: middle;\n",
       "    }\n",
       "\n",
       "    .dataframe tbody tr th {\n",
       "        vertical-align: top;\n",
       "    }\n",
       "\n",
       "    .dataframe thead th {\n",
       "        text-align: right;\n",
       "    }\n",
       "</style>\n",
       "<table border=\"1\" class=\"dataframe\">\n",
       "  <thead>\n",
       "    <tr style=\"text-align: right;\">\n",
       "      <th></th>\n",
       "      <th>Pregnancies</th>\n",
       "      <th>Glucose</th>\n",
       "      <th>BloodPressure</th>\n",
       "      <th>SkinThickness</th>\n",
       "      <th>Insulin</th>\n",
       "      <th>BMI</th>\n",
       "      <th>DiabetesPedigreeFunction</th>\n",
       "      <th>Age</th>\n",
       "    </tr>\n",
       "  </thead>\n",
       "  <tbody>\n",
       "    <tr>\n",
       "      <th>481</th>\n",
       "      <td>0</td>\n",
       "      <td>123</td>\n",
       "      <td>88</td>\n",
       "      <td>37</td>\n",
       "      <td>0</td>\n",
       "      <td>35.2</td>\n",
       "      <td>0.197</td>\n",
       "      <td>29</td>\n",
       "    </tr>\n",
       "    <tr>\n",
       "      <th>64</th>\n",
       "      <td>7</td>\n",
       "      <td>114</td>\n",
       "      <td>66</td>\n",
       "      <td>0</td>\n",
       "      <td>0</td>\n",
       "      <td>32.8</td>\n",
       "      <td>0.258</td>\n",
       "      <td>42</td>\n",
       "    </tr>\n",
       "    <tr>\n",
       "      <th>400</th>\n",
       "      <td>4</td>\n",
       "      <td>95</td>\n",
       "      <td>64</td>\n",
       "      <td>0</td>\n",
       "      <td>0</td>\n",
       "      <td>32.0</td>\n",
       "      <td>0.161</td>\n",
       "      <td>31</td>\n",
       "    </tr>\n",
       "    <tr>\n",
       "      <th>458</th>\n",
       "      <td>10</td>\n",
       "      <td>148</td>\n",
       "      <td>84</td>\n",
       "      <td>48</td>\n",
       "      <td>237</td>\n",
       "      <td>37.6</td>\n",
       "      <td>1.001</td>\n",
       "      <td>51</td>\n",
       "    </tr>\n",
       "    <tr>\n",
       "      <th>288</th>\n",
       "      <td>4</td>\n",
       "      <td>96</td>\n",
       "      <td>56</td>\n",
       "      <td>17</td>\n",
       "      <td>49</td>\n",
       "      <td>20.8</td>\n",
       "      <td>0.340</td>\n",
       "      <td>26</td>\n",
       "    </tr>\n",
       "    <tr>\n",
       "      <th>...</th>\n",
       "      <td>...</td>\n",
       "      <td>...</td>\n",
       "      <td>...</td>\n",
       "      <td>...</td>\n",
       "      <td>...</td>\n",
       "      <td>...</td>\n",
       "      <td>...</td>\n",
       "      <td>...</td>\n",
       "    </tr>\n",
       "    <tr>\n",
       "      <th>483</th>\n",
       "      <td>0</td>\n",
       "      <td>84</td>\n",
       "      <td>82</td>\n",
       "      <td>31</td>\n",
       "      <td>125</td>\n",
       "      <td>38.2</td>\n",
       "      <td>0.233</td>\n",
       "      <td>23</td>\n",
       "    </tr>\n",
       "    <tr>\n",
       "      <th>558</th>\n",
       "      <td>11</td>\n",
       "      <td>103</td>\n",
       "      <td>68</td>\n",
       "      <td>40</td>\n",
       "      <td>0</td>\n",
       "      <td>46.2</td>\n",
       "      <td>0.126</td>\n",
       "      <td>42</td>\n",
       "    </tr>\n",
       "    <tr>\n",
       "      <th>406</th>\n",
       "      <td>4</td>\n",
       "      <td>115</td>\n",
       "      <td>72</td>\n",
       "      <td>0</td>\n",
       "      <td>0</td>\n",
       "      <td>28.9</td>\n",
       "      <td>0.376</td>\n",
       "      <td>46</td>\n",
       "    </tr>\n",
       "    <tr>\n",
       "      <th>334</th>\n",
       "      <td>1</td>\n",
       "      <td>95</td>\n",
       "      <td>60</td>\n",
       "      <td>18</td>\n",
       "      <td>58</td>\n",
       "      <td>23.9</td>\n",
       "      <td>0.260</td>\n",
       "      <td>22</td>\n",
       "    </tr>\n",
       "    <tr>\n",
       "      <th>176</th>\n",
       "      <td>6</td>\n",
       "      <td>85</td>\n",
       "      <td>78</td>\n",
       "      <td>0</td>\n",
       "      <td>0</td>\n",
       "      <td>31.2</td>\n",
       "      <td>0.382</td>\n",
       "      <td>42</td>\n",
       "    </tr>\n",
       "  </tbody>\n",
       "</table>\n",
       "<p>768 rows × 8 columns</p>\n",
       "</div>"
      ],
      "text/plain": [
       "     Pregnancies  Glucose  BloodPressure  SkinThickness  Insulin   BMI  \\\n",
       "481            0      123             88             37        0  35.2   \n",
       "64             7      114             66              0        0  32.8   \n",
       "400            4       95             64              0        0  32.0   \n",
       "458           10      148             84             48      237  37.6   \n",
       "288            4       96             56             17       49  20.8   \n",
       "..           ...      ...            ...            ...      ...   ...   \n",
       "483            0       84             82             31      125  38.2   \n",
       "558           11      103             68             40        0  46.2   \n",
       "406            4      115             72              0        0  28.9   \n",
       "334            1       95             60             18       58  23.9   \n",
       "176            6       85             78              0        0  31.2   \n",
       "\n",
       "     DiabetesPedigreeFunction  Age  \n",
       "481                     0.197   29  \n",
       "64                      0.258   42  \n",
       "400                     0.161   31  \n",
       "458                     1.001   51  \n",
       "288                     0.340   26  \n",
       "..                        ...  ...  \n",
       "483                     0.233   23  \n",
       "558                     0.126   42  \n",
       "406                     0.376   46  \n",
       "334                     0.260   22  \n",
       "176                     0.382   42  \n",
       "\n",
       "[768 rows x 8 columns]"
      ]
     },
     "execution_count": 21,
     "metadata": {},
     "output_type": "execute_result"
    }
   ],
   "source": [
    "X=data.drop(columns='Outcome',axis=1)\n",
    "X"
   ]
  },
  {
   "cell_type": "markdown",
   "id": "69220351",
   "metadata": {},
   "source": [
    "#### LABELS:"
   ]
  },
  {
   "cell_type": "code",
   "execution_count": 22,
   "id": "539f46d8",
   "metadata": {},
   "outputs": [
    {
     "data": {
      "text/plain": [
       "481    0\n",
       "64     1\n",
       "400    1\n",
       "458    1\n",
       "288    0\n",
       "      ..\n",
       "483    0\n",
       "558    0\n",
       "406    1\n",
       "334    0\n",
       "176    0\n",
       "Name: Outcome, Length: 768, dtype: int64"
      ]
     },
     "execution_count": 22,
     "metadata": {},
     "output_type": "execute_result"
    }
   ],
   "source": [
    "Y=data['Outcome']\n",
    "Y"
   ]
  },
  {
   "cell_type": "code",
   "execution_count": 23,
   "id": "a0da4265",
   "metadata": {},
   "outputs": [],
   "source": [
    "scaler=StandardScaler()"
   ]
  },
  {
   "cell_type": "markdown",
   "id": "aafc36f0",
   "metadata": {},
   "source": [
    "<b>SCALING:</b> It is used to transform the data so that it fits in specific scale i.e., the range of the data is changed<br>\n",
    "<b>STANDARDIZATION:</b> It is a scaling technique where the values are centered around the mean.(σ=1, µ=0)<br>\n"
   ]
  },
  {
   "cell_type": "code",
   "execution_count": 24,
   "id": "f57e1336",
   "metadata": {},
   "outputs": [],
   "source": [
    "new_data=scaler.fit_transform(X)"
   ]
  },
  {
   "cell_type": "markdown",
   "id": "9618f7dd",
   "metadata": {},
   "source": [
    "<b>TRANSFORMATION:</b>  Converting the raw data into a specific format"
   ]
  },
  {
   "cell_type": "code",
   "execution_count": 25,
   "id": "398c3b6b",
   "metadata": {},
   "outputs": [],
   "source": [
    "X=new_data\n",
    "y=data['Outcome']"
   ]
  },
  {
   "cell_type": "markdown",
   "id": "f495db99",
   "metadata": {},
   "source": [
    "80% of data is used to train the model, the rest is used for testing"
   ]
  },
  {
   "cell_type": "code",
   "execution_count": 26,
   "id": "99865c1c",
   "metadata": {},
   "outputs": [],
   "source": [
    "X_train, X_test, y_train, y_test=train_test_split(X,y,test_size=0.2,stratify=y)"
   ]
  },
  {
   "cell_type": "markdown",
   "id": "2ac24da9",
   "metadata": {},
   "source": [
    "<b>STRATIFY:</b>  stratify=y makes sure that labels wont get biased when splitted into y_train and y_test<br>"
   ]
  },
  {
   "cell_type": "code",
   "execution_count": 27,
   "id": "4cc63d08",
   "metadata": {},
   "outputs": [
    {
     "data": {
      "text/plain": [
       "(614, 8)"
      ]
     },
     "execution_count": 27,
     "metadata": {},
     "output_type": "execute_result"
    }
   ],
   "source": [
    "X_train.shape"
   ]
  },
  {
   "cell_type": "code",
   "execution_count": 28,
   "id": "d0f9f361",
   "metadata": {},
   "outputs": [
    {
     "data": {
      "text/plain": [
       "(154, 8)"
      ]
     },
     "execution_count": 28,
     "metadata": {},
     "output_type": "execute_result"
    }
   ],
   "source": [
    "X_test.shape"
   ]
  },
  {
   "cell_type": "code",
   "execution_count": 29,
   "id": "5ebd38de",
   "metadata": {},
   "outputs": [],
   "source": [
    "model=LogisticRegression(penalty=\"l2\", C=10)\n",
    "#above arguments are useless"
   ]
  },
  {
   "cell_type": "markdown",
   "id": "183e92ef",
   "metadata": {},
   "source": [
    "#### TRAINING THE MODEL:"
   ]
  },
  {
   "cell_type": "code",
   "execution_count": 30,
   "id": "6b9ef582",
   "metadata": {},
   "outputs": [
    {
     "data": {
      "text/plain": [
       "LogisticRegression(C=10)"
      ]
     },
     "execution_count": 30,
     "metadata": {},
     "output_type": "execute_result"
    }
   ],
   "source": [
    "model.fit(X_train,y_train)"
   ]
  },
  {
   "cell_type": "markdown",
   "id": "6d90fb1e",
   "metadata": {},
   "source": [
    "#### PERFORMANCE ON TRAINING DATA AND TEST DATA:"
   ]
  },
  {
   "cell_type": "code",
   "execution_count": 31,
   "id": "17767c05",
   "metadata": {},
   "outputs": [
    {
     "name": "stdout",
     "output_type": "stream",
     "text": [
      "Accuracy on Training Data: 79.15309446254072 %\n",
      "Accuracy on Test Data: 78.57142857142857 %\n"
     ]
    }
   ],
   "source": [
    "X_train_pred=model.predict(X_train)\n",
    "acc_train=accuracy_score(X_train_pred,y_train)\n",
    "\n",
    "X_test_pred=model.predict(X_test)\n",
    "acc_test=accuracy_score(X_test_pred,y_test)\n",
    "print(\"Accuracy on Training Data:\",acc_train*100,\"%\")\n",
    "print(\"Accuracy on Test Data:\",acc_test*100,\"%\")"
   ]
  },
  {
   "cell_type": "markdown",
   "id": "881afcdd",
   "metadata": {},
   "source": [
    "#### EVALUATING THE MODEL:"
   ]
  },
  {
   "cell_type": "code",
   "execution_count": 32,
   "id": "81ed10b0",
   "metadata": {},
   "outputs": [],
   "source": [
    "input_values = [2,197,70,45,543,30.5,0.158,53]"
   ]
  },
  {
   "cell_type": "markdown",
   "id": "56dbf099",
   "metadata": {},
   "source": [
    "The new input must be standardized since the model did the learning using standardized data\n",
    "<br> Reshaping the array so that it wont expect 768 rows"
   ]
  },
  {
   "cell_type": "code",
   "execution_count": 33,
   "id": "3e425b00",
   "metadata": {},
   "outputs": [
    {
     "data": {
      "text/plain": [
       "array([[-0.54791859,  2.38188392,  0.04624525,  1.53455054,  4.02192191,\n",
       "        -0.18943689, -0.94794368,  1.68125866]])"
      ]
     },
     "execution_count": 33,
     "metadata": {},
     "output_type": "execute_result"
    }
   ],
   "source": [
    "pred_array=np.asarray(input_values).reshape(1,-1)\n",
    "std_data=scaler.transform(pred_array)\n",
    "std_data"
   ]
  },
  {
   "cell_type": "markdown",
   "id": "932d714b",
   "metadata": {},
   "source": [
    "#### RESULTS:"
   ]
  },
  {
   "cell_type": "code",
   "execution_count": 34,
   "id": "211758ae",
   "metadata": {},
   "outputs": [
    {
     "name": "stdout",
     "output_type": "stream",
     "text": [
      "High chance of getting diabetes\n"
     ]
    }
   ],
   "source": [
    "predictions=model.predict(std_data)\n",
    "if(predictions[0]==1):\n",
    "    print(\"High chance of getting diabetes\")\n",
    "else:\n",
    "    print(\"Low chance of getting diabetes\")"
   ]
  },
  {
   "cell_type": "markdown",
   "id": "dcf1f15a",
   "metadata": {},
   "source": [
    "<b>------------------------------------------------------------------------------------------------------------------------------------------------------------------------------------------------------------------</b>"
   ]
  },
  {
   "cell_type": "markdown",
   "id": "61ee7470",
   "metadata": {},
   "source": [
    " "
   ]
  },
  {
   "cell_type": "markdown",
   "id": "88089968",
   "metadata": {},
   "source": [
    " "
   ]
  },
  {
   "cell_type": "code",
   "execution_count": 35,
   "id": "8a330808",
   "metadata": {},
   "outputs": [],
   "source": [
    "filename=\"logreg.sav\" #saved file\n",
    "pickle.dump(model,open(filename,'wb'))    \n",
    "#'filename' is opened in 'wb'(write-binary) mode, all the contents are dumped in it"
   ]
  },
  {
   "cell_type": "code",
   "execution_count": null,
   "id": "47464423",
   "metadata": {},
   "outputs": [],
   "source": []
  },
  {
   "cell_type": "code",
   "execution_count": null,
   "id": "1f8e3aed",
   "metadata": {},
   "outputs": [],
   "source": []
  }
 ],
 "metadata": {
  "kernelspec": {
   "display_name": "Python 3 (ipykernel)",
   "language": "python",
   "name": "python3"
  },
  "language_info": {
   "codemirror_mode": {
    "name": "ipython",
    "version": 3
   },
   "file_extension": ".py",
   "mimetype": "text/x-python",
   "name": "python",
   "nbconvert_exporter": "python",
   "pygments_lexer": "ipython3",
   "version": "3.9.7"
  }
 },
 "nbformat": 4,
 "nbformat_minor": 5
}
